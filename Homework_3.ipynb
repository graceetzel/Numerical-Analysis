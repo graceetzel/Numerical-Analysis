{
  "nbformat": 4,
  "nbformat_minor": 0,
  "metadata": {
    "colab": {
      "provenance": [],
      "authorship_tag": "ABX9TyMvFx41p4a9dJaHl+TWJ0D6",
      "include_colab_link": true
    },
    "kernelspec": {
      "name": "python3",
      "display_name": "Python 3"
    },
    "language_info": {
      "name": "python"
    }
  },
  "cells": [
    {
      "cell_type": "markdown",
      "metadata": {
        "id": "view-in-github",
        "colab_type": "text"
      },
      "source": [
        "<a href=\"https://colab.research.google.com/github/graceetzel/Numerical-Analysis/blob/main/Homework_3.ipynb\" target=\"_parent\"><img src=\"https://colab.research.google.com/assets/colab-badge.svg\" alt=\"Open In Colab\"/></a>"
      ]
    },
    {
      "cell_type": "markdown",
      "source": [
        "# Problem 2"
      ],
      "metadata": {
        "id": "PGGt890QFRIf"
      }
    },
    {
      "cell_type": "markdown",
      "source": [
        "**Part (b)**"
      ],
      "metadata": {
        "id": "TUVySvgDFeUZ"
      }
    },
    {
      "cell_type": "markdown",
      "source": [
        "First, we defined the Hilbert Matrix below according to the definition in the assignment. We made it into an array for organizational purposes."
      ],
      "metadata": {
        "id": "AJYcODfVFjpc"
      }
    },
    {
      "cell_type": "code",
      "source": [
        "#Define Hilbert Matrix\n",
        "import numpy as np\n",
        "\n",
        "def hilbert_matrix(n):\n",
        "    H = np.zeros((n, n))\n",
        "    for i in range(n):\n",
        "        for j in range(n):\n",
        "            H[i, j] = 1 / (i + j + 1)\n",
        "    return H\n",
        "\n",
        "#Create an array for Hilbert Matrices\n",
        "lists=[2,3,5,10]\n",
        "A=[hilbert_matrix(i) for i in lists]\n",
        "print(A)\n",
        "\n",
        "#Do a similar thing for b\n",
        "b=[np.ones(i) for i in lists]\n",
        "print(b)"
      ],
      "metadata": {
        "colab": {
          "base_uri": "https://localhost:8080/"
        },
        "id": "uY5LxU_iN_XD",
        "outputId": "3097ec1a-538a-43df-f83c-02f5aeac58cd"
      },
      "execution_count": null,
      "outputs": [
        {
          "output_type": "stream",
          "name": "stdout",
          "text": [
            "[array([[1.        , 0.5       ],\n",
            "       [0.5       , 0.33333333]]), array([[1.        , 0.5       , 0.33333333],\n",
            "       [0.5       , 0.33333333, 0.25      ],\n",
            "       [0.33333333, 0.25      , 0.2       ]]), array([[1.        , 0.5       , 0.33333333, 0.25      , 0.2       ],\n",
            "       [0.5       , 0.33333333, 0.25      , 0.2       , 0.16666667],\n",
            "       [0.33333333, 0.25      , 0.2       , 0.16666667, 0.14285714],\n",
            "       [0.25      , 0.2       , 0.16666667, 0.14285714, 0.125     ],\n",
            "       [0.2       , 0.16666667, 0.14285714, 0.125     , 0.11111111]]), array([[1.        , 0.5       , 0.33333333, 0.25      , 0.2       ,\n",
            "        0.16666667, 0.14285714, 0.125     , 0.11111111, 0.1       ],\n",
            "       [0.5       , 0.33333333, 0.25      , 0.2       , 0.16666667,\n",
            "        0.14285714, 0.125     , 0.11111111, 0.1       , 0.09090909],\n",
            "       [0.33333333, 0.25      , 0.2       , 0.16666667, 0.14285714,\n",
            "        0.125     , 0.11111111, 0.1       , 0.09090909, 0.08333333],\n",
            "       [0.25      , 0.2       , 0.16666667, 0.14285714, 0.125     ,\n",
            "        0.11111111, 0.1       , 0.09090909, 0.08333333, 0.07692308],\n",
            "       [0.2       , 0.16666667, 0.14285714, 0.125     , 0.11111111,\n",
            "        0.1       , 0.09090909, 0.08333333, 0.07692308, 0.07142857],\n",
            "       [0.16666667, 0.14285714, 0.125     , 0.11111111, 0.1       ,\n",
            "        0.09090909, 0.08333333, 0.07692308, 0.07142857, 0.06666667],\n",
            "       [0.14285714, 0.125     , 0.11111111, 0.1       , 0.09090909,\n",
            "        0.08333333, 0.07692308, 0.07142857, 0.06666667, 0.0625    ],\n",
            "       [0.125     , 0.11111111, 0.1       , 0.09090909, 0.08333333,\n",
            "        0.07692308, 0.07142857, 0.06666667, 0.0625    , 0.05882353],\n",
            "       [0.11111111, 0.1       , 0.09090909, 0.08333333, 0.07692308,\n",
            "        0.07142857, 0.06666667, 0.0625    , 0.05882353, 0.05555556],\n",
            "       [0.1       , 0.09090909, 0.08333333, 0.07692308, 0.07142857,\n",
            "        0.06666667, 0.0625    , 0.05882353, 0.05555556, 0.05263158]])]\n",
            "[array([1., 1.]), array([1., 1., 1.]), array([1., 1., 1., 1., 1.]), array([1., 1., 1., 1., 1., 1., 1., 1., 1., 1.])]\n"
          ]
        }
      ]
    },
    {
      "cell_type": "markdown",
      "source": [
        "For the code below, we try to replicate partial pivoting by setting $PA=LU$. We used the code from the lectures and AI for assistance in creating this code. Additionally, we estimated the time it took for the computer to solve the factorization problem."
      ],
      "metadata": {
        "id": "5ECXbpxqF1Vl"
      }
    },
    {
      "cell_type": "code",
      "source": [
        "import numpy as np\n",
        "import time\n",
        "#AI helped me with this code\n",
        "def lu_factorization_pivoting(A):\n",
        "    A = A.copy().astype(float)\n",
        "    n = A.shape[0]\n",
        "    L = np.eye(n)\n",
        "    U = A.copy()\n",
        "    P = np.eye(n)\n",
        "    for j in range(n):\n",
        "        # Partial pivoting insertion\n",
        "        pivot = np.argmax(np.abs(U[j:, j])) + j\n",
        "        # Swap rows in U\n",
        "        if pivot != j:\n",
        "            U[[j, pivot]] = U[[pivot, j]]\n",
        "            P[[j, pivot]] = P[[pivot, j]]\n",
        "            if j > 0:\n",
        "                L[[j, pivot], :j] = L[[pivot, j], :j]\n",
        "        # Elimination\n",
        "        for i in range(j + 1, n):\n",
        "            mult = U[i, j] / U[j, j]\n",
        "            L[i, j] = mult\n",
        "            U[i, j:] -= mult * U[j, j:]\n",
        "\n",
        "    return P, L, U\n",
        "#time for the lu factorization for n=2\n",
        "fac_time_start_1 = time.perf_counter()\n",
        "Piv_1, L_1, U_1 = lu_factorization_pivoting(A[0])\n",
        "fac_time_end_1 = time.perf_counter()\n",
        "#Cal total diff\n",
        "fac_time_1 = fac_time_end_1 - fac_time_start_1\n",
        "print(fac_time_1)\n",
        "\n",
        "#time for lu factorization for n=3\n",
        "fac_time_start_2 = time.perf_counter()\n",
        "Piv_2, L_2, U_2 = lu_factorization_pivoting(A[1])\n",
        "fac_time_end_2 = time.perf_counter()\n",
        "#Cal total diff\n",
        "fac_time_2 = fac_time_end_2 - fac_time_start_2\n",
        "print(fac_time_2)\n",
        "\n",
        "#time for lu factorization for n=5\n",
        "fac_time_start_3 = time.perf_counter()\n",
        "Piv_3, L_3, U_3 = lu_factorization_pivoting(A[2])\n",
        "fac_time_end_3 = time.perf_counter()\n",
        "#Cal total diff\n",
        "fac_time_3 = fac_time_end_3 - fac_time_start_3\n",
        "print(fac_time_3)\n",
        "\n",
        "#time for lu factorization for n=10\n",
        "fac_time_start_5 = time.perf_counter()\n",
        "Piv_4, L_4, U_4 = lu_factorization_pivoting(A[3])\n",
        "fac_time_end_5 = time.perf_counter()\n",
        "#Cal total diff\n",
        "fac_time_4 = fac_time_end_5 - fac_time_start_5\n",
        "print(fac_time_4)"
      ],
      "metadata": {
        "colab": {
          "base_uri": "https://localhost:8080/"
        },
        "id": "-qg0Vnn_62I0",
        "outputId": "21e75a48-1679-4bc7-ee78-c9208bfb7b23"
      },
      "execution_count": null,
      "outputs": [
        {
          "output_type": "stream",
          "name": "stdout",
          "text": [
            "0.0003384599999662896\n",
            "0.0005230439999195369\n",
            "0.000471400999913385\n",
            "0.0009284049999678246\n"
          ]
        }
      ]
    },
    {
      "cell_type": "markdown",
      "source": [
        "THe code below solves $LU$ factorization through forward and backward substitution. To get this code, we used both AI for assistance and the code in lectures. Additionally, we calculate the time for the computer to perform this code."
      ],
      "metadata": {
        "id": "-2HLaAwRGXqn"
      }
    },
    {
      "cell_type": "code",
      "source": [
        "#AI helped me with this code\n",
        "\n",
        "def lu_solve_pivoting(P, L, U, b):\n",
        "    n = len(b)\n",
        "    # Apply permutation to b\n",
        "    b = np.dot(P, b)\n",
        "    # Forward substitution: Ly = Pb\n",
        "    y = np.zeros(n)\n",
        "    for i in range(n):\n",
        "        y[i] = b[i] - np.dot(L[i, :i], y[:i])\n",
        "    # Back substitution: Ux = y\n",
        "    x = np.zeros(n)\n",
        "    for i in range(n - 1, -1, -1):\n",
        "        x[i] = (y[i] - np.dot(U[i, i + 1:], x[i + 1:])) / U[i, i]\n",
        "\n",
        "    return x\n",
        "\n",
        "#time for solve n=2\n",
        "sol_time_start_1 = time.perf_counter()\n",
        "num_x_1 = lu_solve_pivoting(Piv_1, L_1, U_1, b[0])\n",
        "sol_time_end_1 = time.perf_counter()\n",
        "#Cal total diff\n",
        "sol_time_1 = sol_time_end_1 - sol_time_start_1\n",
        "print(sol_time_1)\n",
        "\n",
        "#time for solve n=3\n",
        "sol_time_start_2 = time.perf_counter()\n",
        "num_x_2 = lu_solve_pivoting(Piv_2, L_2, U_2, b[1])\n",
        "sol_time_end_2 = time.perf_counter()\n",
        "#Cal total diff\n",
        "sol_time_2 = sol_time_end_2 - sol_time_start_2\n",
        "print(sol_time_2)\n",
        "\n",
        "#time for solve n=5\n",
        "sol_time_start_3 = time.perf_counter()\n",
        "num_x_3 = lu_solve_pivoting(Piv_3, L_3, U_3, b[2])\n",
        "sol_time_end_3 = time.perf_counter()\n",
        "#Cal total diff\n",
        "sol_time_3 = sol_time_end_3 - sol_time_start_3\n",
        "print(sol_time_3)\n",
        "\n",
        "#time for solve n=10\n",
        "sol_time_start_4 = time.perf_counter()\n",
        "num_x_4 = lu_solve_pivoting(Piv_4, L_4, U_4, b[3])\n",
        "sol_time_end_4 = time.perf_counter()\n",
        "#Cal total diff\n",
        "sol_time_4 = sol_time_end_4 - sol_time_start_4\n",
        "print(sol_time_4)\n",
        "\n",
        "\n",
        "print(\"Solution x:\")\n",
        "print(num_x_1,num_x_2,num_x_3,num_x_4)"
      ],
      "metadata": {
        "colab": {
          "base_uri": "https://localhost:8080/"
        },
        "id": "AMmAzV-i63FI",
        "outputId": "aaa0173a-2f24-4080-8efb-3b7bb754f012"
      },
      "execution_count": null,
      "outputs": [
        {
          "output_type": "stream",
          "name": "stdout",
          "text": [
            "0.0007708890000230895\n",
            "0.0003213830000277085\n",
            "0.0003106439999100985\n",
            "0.0008607199999914883\n",
            "Solution x:\n",
            "[-2.  6.] [  3. -24.  30.] [    5.  -120.   630. -1120.   630.] [-9.99807293e+00  9.89833719e+02 -2.37564620e+04  2.40207863e+05\n",
            " -1.26110682e+06  3.78335918e+06 -6.72602993e+06  7.00061346e+06\n",
            " -3.93787022e+06  9.23703109e+05]\n"
          ]
        }
      ]
    },
    {
      "cell_type": "markdown",
      "source": [
        "Below we solved the matrix using code provided by numpy."
      ],
      "metadata": {
        "id": "4qQ1NzrEG9FS"
      }
    },
    {
      "cell_type": "code",
      "source": [
        "import numpy as np\n",
        "x_0 = np.linalg.solve(A[0], b[0])\n",
        "x_1 = np.linalg.solve(A[1], b[1])\n",
        "x_2 = np.linalg.solve(A[2], b[2])\n",
        "x_3 = np.linalg.solve(A[3], b[3])\n",
        "\n",
        "print(\"Solution x:\")\n",
        "print(x_0,x_1,x_2,x_3)\n",
        "\n",
        "print(b[0])"
      ],
      "metadata": {
        "colab": {
          "base_uri": "https://localhost:8080/"
        },
        "id": "OyaCHHo0MTOL",
        "outputId": "74d63c30-acbf-48a0-f9f6-f3fb4f7a0bc2"
      },
      "execution_count": null,
      "outputs": [
        {
          "output_type": "stream",
          "name": "stdout",
          "text": [
            "Solution x:\n",
            "[-2.  6.] [  3. -24.  30.] [    5.          -120.           630.         -1120.00000001\n",
            "   630.        ] [-9.99982337e+00  9.89984621e+02 -2.37596706e+04  2.40236992e+05\n",
            " -1.26124560e+06  3.78374027e+06 -6.72665461e+06  7.00121663e+06\n",
            " -3.93818664e+06  9.23772647e+05]\n",
            "[1. 1.]\n"
          ]
        }
      ]
    },
    {
      "cell_type": "markdown",
      "source": [
        "Next, we calculate the residual norm defined as\n",
        "\\begin{align}\n",
        "r=||b-H\\vec x||_2.\n",
        "\\end{align}\n",
        "To do this, we utilized a package from numpy. Additionally, we compute the total time it took for the computer to do the whole calculation by adding the factorization time with the solving time. Lastly, we created a table to showcase all the results using dataframe from Pandas."
      ],
      "metadata": {
        "id": "UxT9ECaUHKBz"
      }
    },
    {
      "cell_type": "code",
      "source": [
        "import pandas as pd\n",
        "\n",
        "#Residual Norm\n",
        "def residual_norm(A, x, b, norm_type=2):\n",
        "    r = b - A @ x\n",
        "    return np.linalg.norm(r, ord=norm_type)\n",
        "norm_x_1 = residual_norm(A[0],num_x_1, b[0])\n",
        "norm_x_2 = residual_norm(A[1], num_x_2, b[1])\n",
        "norm_x_3 = residual_norm(A[2], num_x_3, b[2])\n",
        "norm_x_4 = residual_norm(A[3], num_x_4, b[3])\n",
        "\n",
        "#Add total time between factorization and solving\n",
        "total_time_1 = fac_time_1 + sol_time_1\n",
        "total_time_2 = fac_time_2 + sol_time_2\n",
        "total_time_3 = fac_time_3 + sol_time_3\n",
        "total_time_4 = fac_time_4 + sol_time_4\n",
        "\n",
        "#Table\n",
        "data = {\"n\": [2,3,5,10],\n",
        "    \"Time\": [total_time_1,total_time_2,total_time_3,total_time_4],\n",
        "    \"Residual Norm\": [norm_x_1,norm_x_2,norm_x_3,norm_x_4]}\n",
        "df = pd.DataFrame(data)\n",
        "print(df)"
      ],
      "metadata": {
        "colab": {
          "base_uri": "https://localhost:8080/"
        },
        "id": "uAV427cf9aSC",
        "outputId": "fb6c540d-a30e-4300-b8c2-4ccd592ad935"
      },
      "execution_count": null,
      "outputs": [
        {
          "output_type": "stream",
          "name": "stdout",
          "text": [
            "    n      Time  Residual Norm\n",
            "0   2  0.001109   0.000000e+00\n",
            "1   3  0.000844   2.220446e-16\n",
            "2   5  0.000782   2.903228e-14\n",
            "3  10  0.001789   3.331086e-10\n"
          ]
        }
      ]
    },
    {
      "cell_type": "markdown",
      "source": [
        "**Part (c)**"
      ],
      "metadata": {
        "id": "ce1_HmrWH11H"
      }
    },
    {
      "cell_type": "markdown",
      "source": [
        "Below we compute the 2-norm for the Hilbert matrices using numpy."
      ],
      "metadata": {
        "id": "HsiQfkZxH5Bt"
      }
    },
    {
      "cell_type": "code",
      "source": [
        "import numpy as np\n",
        "#computation of 2-norm for a given n={2,3,5,10}\n",
        "kappa_2_1 = np.linalg.cond(A[0],2)\n",
        "kappa_2_2 = np.linalg.cond(A[1],2)\n",
        "kappa_2_3 = np.linalg.cond(A[2],2)\n",
        "kappa_2_4 = np.linalg.cond(A[3],2)\n",
        "\n",
        "print(kappa_2_1, kappa_2_2,kappa_2_3,kappa_2_4)"
      ],
      "metadata": {
        "colab": {
          "base_uri": "https://localhost:8080/"
        },
        "id": "Py3YgQoHH5NS",
        "outputId": "0cadd29d-7035-4786-d5ec-5af6b4e51179"
      },
      "execution_count": null,
      "outputs": [
        {
          "output_type": "stream",
          "name": "stdout",
          "text": [
            "19.28147006790397 524.0567775860644 476607.2502425855 16024416987428.36\n"
          ]
        }
      ]
    },
    {
      "cell_type": "markdown",
      "source": [
        "Below we compute infinity-norm for the Hilbert matrices using numpy."
      ],
      "metadata": {
        "id": "7j1VpzoFgc29"
      }
    },
    {
      "cell_type": "code",
      "source": [
        "import numpy as np\n",
        "\n",
        "# Compute the condition number in the infinity norm\n",
        "kappa_inf_1 = np.linalg.cond(A[0], np.inf)\n",
        "kappa_inf_2 = np.linalg.cond(A[1], np.inf)\n",
        "kappa_inf_3 = np.linalg.cond(A[2], np.inf)\n",
        "kappa_inf_4 = np.linalg.cond(A[3], np.inf)\n",
        "\n",
        "print(kappa_inf_1,kappa_inf_2,kappa_inf_3,kappa_inf_4)"
      ],
      "metadata": {
        "colab": {
          "base_uri": "https://localhost:8080/"
        },
        "id": "lYukU38XdEc4",
        "outputId": "1f164da2-c2d8-43d1-bbf3-77ebf5c9f489"
      },
      "execution_count": null,
      "outputs": [
        {
          "output_type": "stream",
          "name": "stdout",
          "text": [
            "27.00000000000001 748.0000000000027 943656.0000063627 35356847610517.12\n"
          ]
        }
      ]
    },
    {
      "cell_type": "markdown",
      "source": [
        "Below we organize the following results in a table with $n$, infinity norm, and 2-norm."
      ],
      "metadata": {
        "id": "bejEiZ8OhHWN"
      }
    },
    {
      "cell_type": "code",
      "source": [
        "data_p = {\"n\":[2,3,5,10],\n",
        "          \"2 Norm\":[kappa_2_1,kappa_2_2,kappa_2_3,kappa_2_4],\n",
        "          \"Infinity Norm\":[kappa_inf_1,kappa_inf_2,kappa_inf_3,kappa_inf_4]}\n",
        "df_p = pd.DataFrame(data_p)\n",
        "print(df_p)"
      ],
      "metadata": {
        "colab": {
          "base_uri": "https://localhost:8080/"
        },
        "id": "uxslSVpoevBo",
        "outputId": "c18a9d0c-767c-4e2c-cf54-1b25433f6cda"
      },
      "execution_count": null,
      "outputs": [
        {
          "output_type": "stream",
          "name": "stdout",
          "text": [
            "    n        2 Norm  Infinity Norm\n",
            "0   2  1.928147e+01   2.700000e+01\n",
            "1   3  5.240568e+02   7.480000e+02\n",
            "2   5  4.766073e+05   9.436560e+05\n",
            "3  10  1.602442e+13   3.535685e+13\n"
          ]
        }
      ]
    },
    {
      "cell_type": "markdown",
      "source": [],
      "metadata": {
        "id": "6sEjv8E6ubuu"
      }
    },
    {
      "cell_type": "markdown",
      "source": [
        "# Problem 3"
      ],
      "metadata": {
        "id": "qrXnL_lGugDm"
      }
    },
    {
      "cell_type": "markdown",
      "source": [
        "First, we define the matrix and the following variable"
      ],
      "metadata": {
        "id": "GZycyGkZ2usp"
      }
    },
    {
      "cell_type": "code",
      "source": [
        "import numpy as np\n",
        "\n",
        "eps = 10e-12\n",
        "A=np.array([[eps, 1, 1],\n",
        "            [1,1,1],\n",
        "            [1,1,2]])\n",
        "b=np.array([2,3,4])"
      ],
      "metadata": {
        "id": "UqzpQEDl20bX"
      },
      "execution_count": null,
      "outputs": []
    },
    {
      "cell_type": "markdown",
      "source": [
        "Below we replicate the code from Problem 2 for $LU$ decomposition without pivoting."
      ],
      "metadata": {
        "id": "KXPCII56ummZ"
      }
    },
    {
      "cell_type": "code",
      "source": [
        "\n",
        "#Recieved this code from the lecture notes\n",
        "def lu_factorization(A):\n",
        "  n = A.shape[0]\n",
        "  L = np.eye(n) # Identity for L diagonal\n",
        "  U = A.copy()\n",
        "  for j in range(n - 1):\n",
        "    if abs(U[j, j]) < 1e-100:\n",
        "      raise ValueError('Zero pivot encountered')\n",
        "    for i in range(j + 1, n):\n",
        "      mult = U[i, j] / U[j, j]\n",
        "      L[i, j] = mult\n",
        "      for k in range(j, n):\n",
        "        U[i, k] -= mult * U[j, k]\n",
        "  return L, U\n",
        "\n",
        "def lu_solve(L, U, b):\n",
        "  n = len(b)\n",
        "  # Forward sub: Ly = b\n",
        "  y = np.zeros(n)\n",
        "  for i in range(n):\n",
        "    sum_ly = sum(L[i, j] * y[j] for j in range(i))\n",
        "    y[i] = (b[i] - sum_ly) / L[i, i]\n",
        "    # Back sub: Ux = y\n",
        "    x = np.zeros(n)\n",
        "  for i in range(n - 1, -1, -1):\n",
        "    sum_ux = sum(U[i, j] * x[j] for j in range(i + 1, n))\n",
        "    x[i] = (y[i] - sum_ux) / U[i, i]\n",
        "  return x"
      ],
      "metadata": {
        "id": "ZOiGq-Yo1-Qa"
      },
      "execution_count": null,
      "outputs": []
    },
    {
      "cell_type": "markdown",
      "source": [
        "Next, we solve without pivoting, which we can see below. We incorporate time (out of comparison), although there is no specific need to in the instructions on the assignment. This more of my own exploration."
      ],
      "metadata": {
        "id": "CimJX1Ol3coD"
      }
    },
    {
      "cell_type": "code",
      "source": [
        "import time\n",
        "\n",
        "#Time consideration for the factorization\n",
        "fac_time_start = time.perf_counter()\n",
        "L, U = lu_factorization(A)\n",
        "fac_time_end = time.perf_counter()\n",
        "#Cal total diff\n",
        "fac_time = fac_time_end - fac_time_start\n",
        "\n",
        "#Time consideration for the non-factorization\n",
        "sol_time_start = time.perf_counter()\n",
        "x = lu_solve(L, U, b)\n",
        "sol_time_end = time.perf_counter()\n",
        "#Cal total diff\n",
        "sol_time = sol_time_end - sol_time_start\n",
        "print(\"Solution x:\")\n",
        "print(x)\n",
        "print(\"Factorization time: \", fac_time)\n",
        "print(\"Solution time: \", sol_time)\n",
        "\n"
      ],
      "metadata": {
        "colab": {
          "base_uri": "https://localhost:8080/"
        },
        "id": "O3GHFjro3bdy",
        "outputId": "a19f515d-c8c2-4e33-8d4a-035f663cebba"
      },
      "execution_count": null,
      "outputs": [
        {
          "output_type": "stream",
          "name": "stdout",
          "text": [
            "Solution x:\n",
            "[1.00000008 1.         1.        ]\n",
            "Factorization time:  0.00017505200003142818\n",
            "Solution time:  9.308100015914533e-05\n"
          ]
        }
      ]
    },
    {
      "cell_type": "markdown",
      "source": [
        "Notice that the code above will depend on how we define the epsilon. Originally, the zero pivot was defined at $10^{-10}$, which led to an error because $\\varepsilon=10^{-12}$. However, we must note that we had to redefine the zero pivot based on the code from the lecture notes so as to get a solution. Next, we will do the same steps, but with the partial pivoting, using the code from Problem 2."
      ],
      "metadata": {
        "id": "hoZmMJ-a5LDQ"
      }
    },
    {
      "cell_type": "code",
      "source": [
        "def lu_factorization_pivoting(A):\n",
        "    A = A.copy().astype(float)\n",
        "    n = A.shape[0]\n",
        "    L = np.eye(n)\n",
        "    U = A.copy()\n",
        "    P = np.eye(n)\n",
        "    for j in range(n):\n",
        "        # Partial pivoting insertion\n",
        "        pivot = np.argmax(np.abs(U[j:, j])) + j\n",
        "        # Swap rows in U\n",
        "        if pivot != j:\n",
        "            U[[j, pivot]] = U[[pivot, j]]\n",
        "            P[[j, pivot]] = P[[pivot, j]]\n",
        "            if j > 0:\n",
        "                L[[j, pivot], :j] = L[[pivot, j], :j]\n",
        "        # Elimination\n",
        "        for i in range(j + 1, n):\n",
        "            mult = U[i, j] / U[j, j]\n",
        "            L[i, j] = mult\n",
        "            U[i, j:] -= mult * U[j, j:]\n",
        "\n",
        "    return P, L, U\n",
        "\n",
        "\n",
        "def lu_solve_pivoting(P, L, U, b):\n",
        "    n = len(b)\n",
        "    # Apply permutation to b\n",
        "    b = np.dot(P, b)\n",
        "    # Forward substitution: Ly = Pb\n",
        "    y = np.zeros(n)\n",
        "    for i in range(n):\n",
        "        y[i] = b[i] - np.dot(L[i, :i], y[:i])\n",
        "    # Back substitution: Ux = y\n",
        "    x = np.zeros(n)\n",
        "    for i in range(n - 1, -1, -1):\n",
        "        x[i] = (y[i] - np.dot(U[i, i + 1:], x[i + 1:])) / U[i, i]\n",
        "\n",
        "    return x\n"
      ],
      "metadata": {
        "id": "-19bbCj97Ahb"
      },
      "execution_count": null,
      "outputs": []
    },
    {
      "cell_type": "markdown",
      "source": [
        "As in the previous calculation, we calculate the solution with the time."
      ],
      "metadata": {
        "id": "1ue9MxBG7XQJ"
      }
    },
    {
      "cell_type": "code",
      "source": [
        "#time for the lu factorization for n=2\n",
        "fac_time_start_1 = time.perf_counter()\n",
        "Piv_1, L_1, U_1 = lu_factorization_pivoting(A)\n",
        "fac_time_end_1 = time.perf_counter()\n",
        "#Cal total diff\n",
        "fac_time_1 = fac_time_end_1 - fac_time_start_1\n",
        "\n",
        "#time for solve n=2\n",
        "sol_time_start_1 = time.perf_counter()\n",
        "num_x_1 = lu_solve_pivoting(Piv_1, L_1, U_1, b)\n",
        "sol_time_end_1 = time.perf_counter()\n",
        "#Cal total diff\n",
        "sol_time_1 = sol_time_end_1 - sol_time_start_1\n",
        "\n",
        "#Printing solution and times\n",
        "print(\"Solution x:\")\n",
        "print(num_x_1)\n",
        "print(\"Factorization time: \", fac_time_1)\n",
        "print(\"Solution time: \", sol_time_1)"
      ],
      "metadata": {
        "colab": {
          "base_uri": "https://localhost:8080/"
        },
        "id": "IKXGwG5y7foK",
        "outputId": "0a5874bb-80a6-4f7f-be15-46b3998d2314"
      },
      "execution_count": null,
      "outputs": [
        {
          "output_type": "stream",
          "name": "stdout",
          "text": [
            "Solution x:\n",
            "[1. 1. 1.]\n",
            "Factorization time:  0.0009035789998961263\n",
            "Solution time:  0.00020129499989707256\n"
          ]
        }
      ]
    },
    {
      "cell_type": "markdown",
      "source": [
        "For our last calculation, we use package to give a reference for our solution."
      ],
      "metadata": {
        "id": "lv8K1v8H8Ls6"
      }
    },
    {
      "cell_type": "code",
      "source": [
        "x_sol = np.linalg.solve(A, b)\n",
        "print(\"Solution x:\")\n",
        "print(x_sol)"
      ],
      "metadata": {
        "colab": {
          "base_uri": "https://localhost:8080/"
        },
        "id": "RCgHnneN8YqA",
        "outputId": "dcfc73ff-01f3-4f2b-cbe7-f6e99bd3b3cb"
      },
      "execution_count": null,
      "outputs": [
        {
          "output_type": "stream",
          "name": "stdout",
          "text": [
            "Solution x:\n",
            "[1. 1. 1.]\n"
          ]
        }
      ]
    },
    {
      "cell_type": "markdown",
      "source": [
        "Next, we obtain residuals by calculating\n",
        "\\begin{align*}\n",
        "r=||\\vec x_{method}-\\vec x_{ref}||_2,\n",
        "\\end{align*}\n",
        "where $\\vec x_{ref}$ represents the numerical solution generated from the Python package. The code below attempts to replicate this."
      ],
      "metadata": {
        "id": "n8oF-Rl79S2J"
      }
    },
    {
      "cell_type": "code",
      "source": [
        "#Defining function based on formula above\n",
        "def forward_error_norm(A,b,x):\n",
        "  x_ref = np.linalg.solve(A, b)\n",
        "  r=np.linalg.norm(x-x_ref)\n",
        "  return r\n",
        "\n",
        "#Retrieving residuals\n",
        "forward_error_norm_1 = forward_error_norm(A, b,num_x_1)\n",
        "forward_error_norm_2 = forward_error_norm(A, b,x)\n",
        "\n",
        "#Printing result\n",
        "print(num_x_1)\n",
        "print(x)\n",
        "print(f'forward error norm 1 = {forward_error_norm_1}')\n",
        "print(f'forward error norm 2 = {forward_error_norm_2}')"
      ],
      "metadata": {
        "colab": {
          "base_uri": "https://localhost:8080/"
        },
        "id": "FfomGPzA94jq",
        "outputId": "c90326d8-1996-4475-8e89-315475e87bce"
      },
      "execution_count": null,
      "outputs": [
        {
          "output_type": "stream",
          "name": "stdout",
          "text": [
            "[1. 1. 1.]\n",
            "[1.00000008 1.         1.        ]\n",
            "forward error norm 1 = 0.0\n",
            "forward error norm 2 = 8.273037099826297e-08\n"
          ]
        }
      ]
    },
    {
      "cell_type": "markdown",
      "source": [
        "Note that we can see a visible difference between the two methods not by much. For context, the forward error norm 1 defines the pivot method while the forward error norm 2 defines the non-pivot method. Notice that the error for the pivot method is approximately zero whereas the non-pivot method is close to zero, but has a small error. Next, we create a table of the following values: residual norm, the solution, time for computation."
      ],
      "metadata": {
        "id": "pZwWKxRE_MEh"
      }
    },
    {
      "cell_type": "code",
      "source": [
        "import pandas as pd\n",
        "\n",
        "#time change\n",
        "time_1 = fac_time + sol_time\n",
        "time_2 = fac_time_1 + sol_time_1\n",
        "\n",
        "#Create the data\n",
        "data = {\"Method Type\":[\"Non Pivot Method\",\"Pivot Method\"],\n",
        "        \"Residual Norm\":[forward_error_norm_2, forward_error_norm_1,],\n",
        "        \"Solution\":[x,num_x_1,],\n",
        "        \"Time\":[time_1, time_2]\n",
        "        }\n",
        "\n",
        "#Make dataframe and print table\n",
        "df=pd.DataFrame(data)\n",
        "print(df)"
      ],
      "metadata": {
        "colab": {
          "base_uri": "https://localhost:8080/"
        },
        "id": "KFwzGqKLClK7",
        "outputId": "9c71df37-5b89-45a4-df10-f8d0f8a2ddf6"
      },
      "execution_count": null,
      "outputs": [
        {
          "output_type": "stream",
          "name": "stdout",
          "text": [
            "        Method Type  Residual Norm                                 Solution  \\\n",
            "0  Non Pivot Method   8.273037e-08  [1.000000082740371, 0.99999999999, 1.0]   \n",
            "1      Pivot Method   0.000000e+00      [1.00000000001, 0.99999999999, 1.0]   \n",
            "\n",
            "       Time  \n",
            "0  0.000268  \n",
            "1  0.001105  \n"
          ]
        }
      ]
    },
    {
      "cell_type": "markdown",
      "source": [
        "Notice that the solution in the non pivot method is slightly less consistent to the correct solution than the pivot the method. Additionally, another observation is that the time for the pivot method is longer than the non pivot method. My explanation for this may be that the code in the pivot method is longer, so the time for the solution to be complete may take longer. Next, we will consider $\\kappa(A)_2$."
      ],
      "metadata": {
        "id": "nK2tV0gZMOoh"
      }
    },
    {
      "cell_type": "code",
      "source": [
        "import matplotlib.pyplot as plt\n",
        "import numpy as np\n",
        "\n",
        "eps = np.logspace(-1, -100, 30)\n",
        "\n",
        "A = [np.array([[e, 1, 1],\n",
        "               [1, 1, 1],\n",
        "               [1, 1, 2]]) for e in eps]\n",
        "\n",
        "b = [np.array([2, 3, 4]) for _ in eps]\n",
        "\n",
        "# Compute condition numbers using 2-norm\n",
        "kappas = [np.linalg.cond(matrix, 2) for matrix in A]\n",
        "\n",
        "#Assisted with AI\n",
        "#graph\n",
        "plt.plot(eps, kappas, marker='o')\n",
        "plt.xscale('log')\n",
        "plt.yscale('log')\n",
        "plt.xlabel('Epsilon')\n",
        "plt.ylabel('Condition Number')\n",
        "plt.title('Condition Number vs. Epsilon')\n",
        "plt.grid(True, which='both', ls='--', lw=0.5)\n",
        "plt.tight_layout()\n",
        "plt.show()\n",
        "print(eps)\n"
      ],
      "metadata": {
        "colab": {
          "base_uri": "https://localhost:8080/",
          "height": 630
        },
        "id": "0GIIVa_eEqso",
        "outputId": "6acde148-a05a-4240-bed8-3e31b651813e"
      },
      "execution_count": null,
      "outputs": [
        {
          "output_type": "display_data",
          "data": {
            "text/plain": [
              "<Figure size 640x480 with 1 Axes>"
            ],
            "image/png": "[encoded data removed]"
          },
          "metadata": {}
        },
        {
          "output_type": "stream",
          "name": "stdout",
          "text": [
            "[1.00000000e-001 3.85662042e-005 1.48735211e-008 5.73615251e-012\n",
            " 2.21221629e-015 8.53167852e-019 3.29034456e-022 1.26896100e-025\n",
            " 4.89390092e-029 1.88739182e-032 7.27895384e-036 2.80721620e-039\n",
            " 1.08263673e-042 4.17531894e-046 1.61026203e-049 6.21016942e-053\n",
            " 2.39502662e-056 9.23670857e-060 3.56224789e-063 1.37382380e-066\n",
            " 5.29831691e-070 2.04335972e-073 7.88046282e-077 3.03919538e-080\n",
            " 1.17210230e-083 4.52035366e-087 1.74332882e-090 6.72335754e-094\n",
            " 2.59294380e-097 1.00000000e-100]\n"
          ]
        }
      ]
    },
    {
      "cell_type": "markdown",
      "source": [
        "Above we have a graph of the conditional number from $\\kappa(A)_2$ based on different values of epsilons. The idea here is to see how different epsilons lead to a change in the conditional number. For a stable system, we would hypothesize that this number would not change very much and consist of a lower value. Notice that this function above is very consistent until a slight, yet sudden drop, as approaches $\\varepsilon\\approx 0.01$ from the left hand side. In terms of stability, changing $ɛ$ to be closer to $1$ interrupts the stability of the conditional number. That is, small changes in $epsilon$ have an impact on the stability depending on where the change occurs."
      ],
      "metadata": {
        "id": "JLjCr8a_Nrxi"
      }
    },
    {
      "cell_type": "markdown",
      "source": [
        "In terms of numerical convience, the pivoting code can be helpful so as to aviod errors. Although we are dealing with very small numbers here. A matrix that incorporates a 0 in the pivot position would produce an error, being unsolvable for the computer. However, the pivoting code expands the set of matrices that we would be allowed to numerically calculate, since pivoting may allow us switch rows for those that have zeros in a pivot position. However, the cost is that the pivoting code is technically longer on a time scale than the non-pivoting code as referenced above."
      ],
      "metadata": {
        "id": "C2qnPkvqPpYa"
      }
    },
    {
      "cell_type": "markdown",
      "source": [
        "While coding this exercise, there were not many roundoff errors. However, I would like to note that the zero pivoting error can create issues depending on how small the zero is defined. Defining zero for a very small quantity (say $10^{-40}$) is possible to do in the code without error; however, this does not mean that there may not be rounding errors within the computations. Therefore, defining the zero may impact any potiential roundoff errors."
      ],
      "metadata": {
        "id": "f94ayBFcQvC9"
      }
    }
  ]
}