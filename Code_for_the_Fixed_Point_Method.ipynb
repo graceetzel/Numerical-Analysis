{
  "nbformat": 4,
  "nbformat_minor": 0,
  "metadata": {
    "colab": {
      "provenance": [],
      "authorship_tag": "ABX9TyOBDpxPvhWtQyas2FPLQAhu",
      "include_colab_link": true
    },
    "kernelspec": {
      "name": "python3",
      "display_name": "Python 3"
    },
    "language_info": {
      "name": "python"
    }
  },
  "cells": [
    {
      "cell_type": "markdown",
      "metadata": {
        "id": "view-in-github",
        "colab_type": "text"
      },
      "source": [
        "<a href=\"https://colab.research.google.com/github/graceetzel/Numerical-Analysis/blob/main/Code_for_the_Fixed_Point_Method.ipynb\" target=\"_parent\"><img src=\"https://colab.research.google.com/assets/colab-badge.svg\" alt=\"Open In Colab\"/></a>"
      ]
    },
    {
      "cell_type": "code",
      "execution_count": null,
      "metadata": {
        "id": "336ik8liCazb"
      },
      "outputs": [],
      "source": [
        "def fixed_point(g , x0 , tol =1e-6 , max_iter =100):\n",
        "  x = x0\n",
        "  for _ in range ( max_iter ):\n",
        "    x_new = g ( x )\n",
        "  if abs( x_new - x ) < tol :\n",
        "    return x_new\n",
        "    x = x_new\n",
        "  raise ValueError ( \" No convergence \" )\n",
        "\n",
        "  g = lambda x : (1+2*x**3)/(1+3*x**2)\n",
        "  #lambda is another way to creating a function in a quick one-dimensional way\n",
        "  r = fixed_point(g,0.5)\n",
        "  print(r)"
      ]
    },
    {
      "cell_type": "code",
      "source": [
        "import sympy as sp\n",
        "\n",
        "x = sp.Symbol('x')\n",
        "g = (1+2*x**3)/(1+3*x**2)\n",
        "g_prime = sp.diff(g, x)\n",
        "print(g_prime)\n",
        "g_prime_val = g_prime.evalf(subs={x: 0.5})\n",
        "print(g_prime_val)"
      ],
      "metadata": {
        "colab": {
          "base_uri": "https://localhost:8080/"
        },
        "id": "OeBYmQnNDRXP",
        "outputId": "56a5e513-07ee-4f04-cc30-93fe3c5079e0"
      },
      "execution_count": null,
      "outputs": [
        {
          "output_type": "stream",
          "name": "stdout",
          "text": [
            "6*x**2/(3*x**2 + 1) - 6*x*(2*x**3 + 1)/(3*x**2 + 1)**2\n",
            "-0.367346938775510\n"
          ]
        }
      ]
    }
  ]
}