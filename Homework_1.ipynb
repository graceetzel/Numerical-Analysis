{
  "nbformat": 4,
  "nbformat_minor": 0,
  "metadata": {
    "colab": {
      "provenance": [],
      "authorship_tag": "ABX9TyN4MmsMEQJdcufmS6lHWxkw",
      "include_colab_link": true
    },
    "kernelspec": {
      "name": "python3",
      "display_name": "Python 3"
    },
    "language_info": {
      "name": "python"
    }
  },
  "cells": [
    {
      "cell_type": "markdown",
      "metadata": {
        "id": "view-in-github",
        "colab_type": "text"
      },
      "source": [
        "<a href=\"https://colab.research.google.com/github/graceetzel/Numerical-Analysis/blob/main/Homework_1.ipynb\" target=\"_parent\"><img src=\"https://colab.research.google.com/assets/colab-badge.svg\" alt=\"Open In Colab\"/></a>"
      ]
    },
    {
      "cell_type": "markdown",
      "source": [
        "# Problem 2:\n",
        "\n",
        "Wrote my explanations within the code."
      ],
      "metadata": {
        "id": "Oca-LDf9v3qq"
      }
    },
    {
      "cell_type": "code",
      "execution_count": null,
      "metadata": {
        "colab": {
          "base_uri": "https://localhost:8080/"
        },
        "id": "FL7qViUWkJAg",
        "outputId": "879063eb-e55d-4aea-e601-a6edb68dc91f"
      },
      "outputs": [
        {
          "output_type": "stream",
          "name": "stdout",
          "text": [
            "0.001\n",
            "11.00110\n"
          ]
        }
      ],
      "source": [
        "def base_2(x,estimate):\n",
        "  #Case when x is negative\n",
        "  if x<0:\n",
        "    return base_2(abs(x), estimate)\n",
        "\n",
        "  #Case when x is 0\n",
        "  if x ==0:\n",
        "    return '0'\n",
        "\n",
        "  #Breaking up the number to integer and fractional form\n",
        "  integer = int(x)\n",
        "  fraction = x -integer\n",
        "\n",
        "  #Calculating the integer bits\n",
        "  int_bits=''\n",
        "  if integer == 0:\n",
        "    int_bits ='0'\n",
        "  else:\n",
        "    while integer>0:\n",
        "      int_bits = str(integer%2) + int_bits\n",
        "      integer = integer // 2\n",
        "\n",
        "  #Calculating the fractional bits\n",
        "  frac_bit = ''\n",
        "  count = 0\n",
        "  while fraction>0 and count<estimate:\n",
        "    fraction *= 2\n",
        "    bit = int(fraction)\n",
        "    frac_bit += str(bit)\n",
        "    fraction -= bit\n",
        "    count = count +1\n",
        "\n",
        "#Summing up the resulting fractional and integer bits\n",
        "  if frac_bit:\n",
        "        return int_bits + '.' + frac_bit\n",
        "  else:\n",
        "        return int_bits\n",
        "\n",
        "#Check answers with the code\n",
        "print(base_2(0.125,5))\n",
        "print(base_2(3.2,5))\n"
      ]
    },
    {
      "cell_type": "markdown",
      "source": [
        "# Problem 3"
      ],
      "metadata": {
        "id": "U-KoXXntw3Hj"
      }
    },
    {
      "cell_type": "code",
      "source": [
        "#Check the first 7 bits of e.\n",
        "print(base_2(2.7182818284, 7))"
      ],
      "metadata": {
        "colab": {
          "base_uri": "https://localhost:8080/"
        },
        "id": "SYY4w43LxAXW",
        "outputId": "3ff8b5ed-74da-4863-88f9-42d3e87b55a1"
      },
      "execution_count": null,
      "outputs": [
        {
          "output_type": "stream",
          "name": "stdout",
          "text": [
            "10.1011011\n"
          ]
        }
      ]
    },
    {
      "cell_type": "markdown",
      "source": [
        "# Problem 4:"
      ],
      "metadata": {
        "id": "tSjMSDWv4IFA"
      }
    },
    {
      "cell_type": "code",
      "source": [
        "#Check the binary value\n",
        "print(base_2(100.2,5))"
      ],
      "metadata": {
        "colab": {
          "base_uri": "https://localhost:8080/"
        },
        "id": "zlP6lBGl4Gtr",
        "outputId": "fb27deed-919d-4330-a0d2-ba0508800df4"
      },
      "execution_count": null,
      "outputs": [
        {
          "output_type": "stream",
          "name": "stdout",
          "text": [
            "1100100.00110\n"
          ]
        }
      ]
    },
    {
      "cell_type": "markdown",
      "source": [
        "# Problem 5:\n",
        "\n",
        "The explanations are commented in the code."
      ],
      "metadata": {
        "id": "XAUx6rhST1nN"
      }
    },
    {
      "cell_type": "code",
      "source": [
        "def base_10(x):\n",
        "  #Convert any numeric to string\n",
        "  x = str(x)\n",
        "\n",
        "  #Split the integer part and the fractional part\n",
        "  if '.' in x:\n",
        "    int_part, frac_part = x.split('.')\n",
        "  else:\n",
        "    int_part, frac_part = x, ''\n",
        "\n",
        "  #Identify if its repeating and split the repeat and non repeating parts\n",
        "  if '(' in frac_part:\n",
        "    non_repeat, repeat = frac_part.split('(')\n",
        "    repeat = repeat.rstrip(')')\n",
        "  else:\n",
        "    non_repeat, repeat = frac_part, ''\n",
        "\n",
        "  #Calculate the integral part\n",
        "  int_value = int(int_part,2) if int_part else 0\n",
        "  total = int_value\n",
        "\n",
        "  #Calculate the non-repeating\n",
        "  for i, bit in enumerate(non_repeat):\n",
        "    if bit == '1':\n",
        "      total += 2**(-(i+1))\n",
        "\n",
        "  #Calculate the repeating part\n",
        "  if repeat:\n",
        "    k = len(non_repeat)\n",
        "    r = len(repeat)\n",
        "    repeat_value = int(repeat, 2)\n",
        "    numerator = repeat_value\n",
        "    denominator = (2**r - 1) * (2**k)\n",
        "    total += numerator / denominator\n",
        "\n",
        "  #Return the total as defined in the above code based on the cases\n",
        "  return total\n",
        "\n",
        "#Check to see if answers work out.\n",
        "print(base_10(111.001))\n",
        "print(base_10('111.(001)'))"
      ],
      "metadata": {
        "colab": {
          "base_uri": "https://localhost:8080/"
        },
        "id": "-7NqUgc8T3ZO",
        "outputId": "fb3dad11-e2be-4ea2-b291-2e7fd61f0660"
      },
      "execution_count": null,
      "outputs": [
        {
          "output_type": "stream",
          "name": "stdout",
          "text": [
            "7.125\n",
            "7.142857142857143\n"
          ]
        }
      ]
    },
    {
      "cell_type": "markdown",
      "source": [
        "# Problem 6:\n"
      ],
      "metadata": {
        "id": "2snt_s0mibUp"
      }
    },
    {
      "cell_type": "code",
      "source": [
        "import numpy as np\n",
        "import sympy as sy\n",
        "\n",
        "#part a\n",
        "\n",
        "#Original function defined\n",
        "def original(x):\n",
        "  return (1-sy.sec(x))/(sy.tan(x))**2\n",
        "\n",
        "#The more stable function defined\n",
        "def stable(x):\n",
        "  return -1/(1+sy.sec(x))\n",
        "\n",
        "#defining some x values\n",
        "x_vals = [1e-1, 1e-4, 1e-8, 1e-12, 1e-16]\n",
        "\n",
        "#priniting notation for the columns using tabs\n",
        "print(\"part (a)\")\n",
        "print(\"x\\toriginal\\t\\tstable\\t\\t\\tabs error\")\n",
        "\n",
        "#Using a loop to circulate the x values into the function and consider their absolute value\n",
        "for x in x_vals:\n",
        "    f1 = original(x)\n",
        "    f2 = stable(x)\n",
        "    print(f\"{x:.0e}\\t{f1:.16f}\\t{f2:.16f}\\t{abs(f1 - f2):.1e}\")\n",
        "\n",
        "\n",
        "#part b\n",
        "#Original function defined\n",
        "def original(x):\n",
        "    return (np.sqrt(1 + x) - 1) / x\n",
        "\n",
        "#The more stable function defined\n",
        "def stable(x):\n",
        "    return 1 / (np.sqrt(1 + x) + 1)\n",
        "\n",
        "#defining some x values\n",
        "x_vals = [1e-1, 1e-4, 1e-8, 1e-12, 1e-16]\n",
        "\n",
        "#priniting notation for the columns using tabs\n",
        "print(\"part (b)\")\n",
        "print(\"x\\toriginal\\t\\tstable\\t\\t\\tabs error\")\n",
        "\n",
        "#Using a loop to circulate the x values into the function and consider their absolute value\n",
        "for x in x_vals:\n",
        "    f1 = original(x)\n",
        "    f2 = stable(x)\n",
        "    print(f\"{x:.0e}\\t{f1:.16f}\\t{f2:.16f}\\t{abs(f1 - f2):.1e}\")\n"
      ],
      "metadata": {
        "colab": {
          "base_uri": "https://localhost:8080/"
        },
        "id": "blzfK-rCid0w",
        "outputId": "65ba56ca-aed5-4dd9-f35b-b80be859880a"
      },
      "execution_count": null,
      "outputs": [
        {
          "output_type": "stream",
          "name": "stdout",
          "text": [
            "part (a)\n",
            "x\toriginal\t\tstable\t\t\tabs error\n",
            "1e-01\t-0.4987479137114350\t-0.4987479137114290\t5.8e-15\n",
            "1e-04\t-0.4999999936279310\t-0.4999999987500000\t5.1e-9\n",
            "1e-08\t0.0000000000000000\t-0.5000000000000000\t5.0e-1\n",
            "1e-12\t0.0000000000000000\t-0.5000000000000000\t5.0e-1\n",
            "1e-16\t0.0000000000000000\t-0.5000000000000000\t5.0e-1\n",
            "part (b)\n",
            "x\toriginal\t\tstable\t\t\tabs error\n",
            "1e-01\t0.4880884817015163\t0.4880884817015155\t8.3e-16\n",
            "1e-04\t0.4999875006239662\t0.4999875006249609\t9.9e-13\n",
            "1e-08\t0.4999999969612645\t0.4999999987500000\t1.8e-09\n",
            "1e-12\t0.5000444502911705\t0.4999999999998750\t4.4e-05\n",
            "1e-16\t0.0000000000000000\t0.5000000000000000\t5.0e-01\n"
          ]
        }
      ]
    },
    {
      "cell_type": "markdown",
      "source": [
        "Take a second to notice that in the original code of both part a and b the function starts to hit 0 even though that is not where the function is approaching. In contrast, the stable function eventually rounds to where the function is approaching, which gives us a better estimate."
      ],
      "metadata": {
        "id": "_sudNbtTlWMM"
      }
    }
  ]
}